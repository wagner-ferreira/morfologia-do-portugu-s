{
  "nbformat": 4,
  "nbformat_minor": 0,
  "metadata": {
    "colab": {
      "name": "flexao_numero_nomes.ipynb",
      "provenance": [],
      "authorship_tag": "ABX9TyMSQ7T/uFJ3a0BHeLAanXMW",
      "include_colab_link": true
    },
    "kernelspec": {
      "name": "python3",
      "display_name": "Python 3"
    },
    "language_info": {
      "name": "python"
    }
  },
  "cells": [
    {
      "cell_type": "markdown",
      "metadata": {
        "id": "view-in-github",
        "colab_type": "text"
      },
      "source": [
        "<a href=\"https://colab.research.google.com/github/wagner-ferreira/morfologia-do-portugu-s/blob/main/flexao_numero_nomes.ipynb\" target=\"_parent\"><img src=\"https://colab.research.google.com/assets/colab-badge.svg\" alt=\"Open In Colab\"/></a>"
      ]
    },
    {
      "cell_type": "markdown",
      "metadata": {
        "id": "YxYoXCN8lYGb"
      },
      "source": [
        "##***Flexão de número dos nomes substantivos e adjetivos do português***##"
      ]
    },
    {
      "cell_type": "markdown",
      "metadata": {
        "id": "ZnffAhB0mMiK"
      },
      "source": [
        "Wagner Ferreira Lima\n",
        "\n",
        "Prof. Associado do Departamento de Letras Vernáculas e Clássicas\n",
        "\n",
        "Universidade Estadual de Londrina - PR – Brasil\n",
        "\n"
      ]
    },
    {
      "cell_type": "markdown",
      "metadata": {
        "id": "LCFZYkwa-v06"
      },
      "source": [
        "###**Problema**:####\n",
        "\n",
        "A **análise estrutural** da morfologia linguística requer um alto nível de **raciocínio abstrato**, devido à natureza formal da análise. \n",
        "\n",
        "Assim sendo, as funções **“analise_substantivo_adjetivo_( )”** se apresentam como um importante instrumento de apoio a todos quantos tenham encontrado dificuldades em raciocinar sobre a flexão de número. \n",
        "\n",
        "####**Objetivos**:####\n",
        "\n",
        "* Modelar os fenômenos de flexão dos nomes substantivos e adjetivos da língua portuguesa.\n",
        "\n",
        "* Levar os interessados a conquistar a capacidade de “visualizar” a estrutura interna das palavras. "
      ]
    },
    {
      "cell_type": "markdown",
      "metadata": {
        "id": "OYs746Orggr6"
      },
      "source": [
        "###**Morfologia linguística**###\n",
        "\n",
        "Morfologia é a ciência que estuda a **organização estrutural** das palavras. \n",
        "\n",
        "Um exemplo é a análise do substantivo “beleza”. Este é derivado de “belo”, pela adjunção de “eza” a “bel”. Além da mera adjunção aparente de componentes formais (“bel” + “eza”), temos na realidade uma **estrutura subjacente**, que pode ser representada assim: (Rdl (R({belo} *bel*-)) (SD ({eza} -*eza*))) (LAROCA, 2003).\n",
        "\n",
        "(Notação: Rdl: “radical lexical”; R: “raiz”; SD: “sufixo derivacional”; { }: “indicação de morfema”; e itálico: “indicação de alomorfe”.)\n",
        "\n",
        "Em termos básicos, o entendimento da morfologia consiste em apreender tal **estrutura interna das palavras**. No dizer de Lyons (1987), a morfologia trata da “estrutura interna gramatical das palavras”. A morfologia “encampa não só a flexão mas também a derivação”, tratando-as “por meio de regras que operam sobre as mesmas unidades linguísticas” (LYONS, 1987, p. 77). Aqui, neste projeto, vamos nos ocupar da **flexão de número** dos nomes (substantivos e adjetivos) da língua portuguesa."
      ]
    },
    {
      "cell_type": "markdown",
      "metadata": {
        "id": "45_7pN7ig8Ns"
      },
      "source": [
        "###**Flexão de número dos nomes**###\n",
        "\n",
        "Flexão é um termo clássico usado para indicar que uma dada palavra “se dobra” a novos empregos (CÂMARA JR., 2001). Em português, a flexão se apresenta “sob o aspecto de segmentos fônicos pospostos ao radical, ou sufixos. São os sufixos flexionais, ou desinências, que não se devem confundir com os sufixos derivacionais, destinados a criar novos vocábulos” (ou palavras), como no exemplo acima (CÂMARA JR., 2001, p. 81).\n",
        "\n",
        "O entendimento de Câmara Jr. acerca da **flexão de número** é que o singular é uma noção implícita nos nomes; enquanto o plural é uma noção explícita, morficamente marcada de modo a indicar um ato de escolha do falante. Mantemos essa interpretação para as funções abaixo descritas. \n"
      ]
    },
    {
      "cell_type": "markdown",
      "metadata": {
        "id": "quAE4Lf3HW_d"
      },
      "source": [
        "###**Rótulos para os níveis de organização morfológica que aparecem no diagrama arbóreo (LAROCA, 2003):**###\n",
        "\n",
        "**R:** raiz\n",
        "\n",
        "**ST:** sufixo temático\n",
        "\n",
        "**T:** tema\n",
        "\n",
        "**SFN:** sufixo flexional de número\n",
        "\n",
        "**Rdf:** radical flexional\n",
        "\n",
        "\n",
        "\n",
        "\n",
        "\n",
        "\n",
        "\n",
        "\n",
        "\n"
      ]
    },
    {
      "cell_type": "markdown",
      "metadata": {
        "id": "5h8WJ8bsGYuV"
      },
      "source": [
        "##**Funções para os diferentes paradigmas de flexão de número**##"
      ]
    },
    {
      "cell_type": "markdown",
      "metadata": {
        "id": "OCYtYRHGnaeW"
      },
      "source": [
        "###**1) Substantivos e adjetivos terminados em vogais átonas**###\n",
        "\n",
        "Exemplos: \"carro\", \"mesa\", \"dente\" etc."
      ]
    },
    {
      "cell_type": "markdown",
      "metadata": {
        "id": "yiWA55CNoJOQ"
      },
      "source": [
        "####**1.1.) Execute esta função!**####"
      ]
    },
    {
      "cell_type": "code",
      "metadata": {
        "id": "dAPmiCRswvwp"
      },
      "source": [
        "def analise_substantivo_adjetivo_1():\n",
        "  \n",
        "  import re\n",
        "  \n",
        "  print(\"Escreva o PLURAL de um substantivo ou adjetivo com as seguintes características:\\n\")\n",
        "  print(\"1) Seja primitivo.\")\n",
        "  print(\"2) Seja terminado em vogal átona (pode ser em ditongo crescente).\\n\")\n",
        "\n",
        "  exemplo_0 = input(\"Escreva aqui:\\n\\n\")\n",
        "\n",
        "  print('\\n')\n",
        "\n",
        "\n",
        "  #ALOMORFE DE PLURAL:\n",
        "\n",
        "  plural = re.findall(r'\\w$', exemplo_0)\n",
        "  plural = (''.join(plural))\n",
        "\n",
        "\n",
        "  ###ALOMORFE DE TEMA:\n",
        "\n",
        "  tema = re.sub(plural, '', exemplo_0)\n",
        "  tema = re.findall(r'\\w$', tema)\n",
        "  tema = (''.join(tema))\n",
        "\n",
        "\n",
        "  ###ALOMORFE DE RAIZ:\n",
        "\n",
        "  pattern = tema + plural                      \n",
        "  raiz = re.sub(pattern, '', exemplo_0)\n",
        "\n",
        "\n",
        "  #IMPRESSÕES DOS ALOMORFES:\n",
        "\n",
        "  print(\"OS ALOMORFES:\")\n",
        "  print(\"O alomorfe de raiz é: \" + raiz + '-')\n",
        "  print(\"O alomorfe de tema é: \" + '-' + tema + '-')\n",
        "  print(\"O alomorfe de plural é: \" + '-' + plural)\n",
        "  \n",
        "  print('\\n')\n",
        "\n",
        "  # MORFEMA DE TEMA:\n",
        "\n",
        "  for w in tema:\n",
        "    if w == 'e':\n",
        "      suf_tema = \"{tema'e'}\"\n",
        "    else:\n",
        "      pass\n",
        "      if w == 'o':\n",
        "        suf_tema = \"{tema'o'}\"\n",
        "      else:\n",
        "        pass \n",
        "        if w == 'a':\n",
        "          suf_tema = \"{tema'a'}\"\n",
        "        else:\n",
        "          pass\n",
        "          if w == 'i':\n",
        "            suf_tema = \"{?}\"\n",
        "\n",
        "  ##MORFEMA DE RAIZ:\n",
        "\n",
        "  m_raiz = raiz + tema\n",
        "  m_raiz = '{', m_raiz, '}'\n",
        "  m_raiz = (''.join(m_raiz))\n",
        "\n",
        "  ###MORFEMA DE PLURAL:\n",
        "\n",
        "  plural_1 = 'plural'\n",
        "  m_plural = '{', plural_1, '}'\n",
        "  m_plural = (''.join(m_plural))\n",
        "\n",
        "\n",
        "  #IMPRESSÕES DOS MORFEMAS:\n",
        "  print(\"OS MORFEMAS:\")\n",
        "  print(\"O morfema de raíz é: \" + m_raiz)\n",
        "  print(\"O morfema de tema é: \" + suf_tema)\n",
        "  print(\"O morfema de plural é: \" + m_plural)\n",
        "  print(\"\\n\")\n",
        "\n",
        "  ###DIAGRAMA DA ESTRUTURA DA PALAVRA\n",
        "\n",
        "  estr_palavra = '(Rdf(T (R (100 101)) (ST (200 201))) (SFN (300 301)))'\n",
        "\n",
        "  estr_palavra = estr_palavra.replace('100', m_raiz).replace('101', raiz + '-').replace('200', suf_tema).replace('201', '-' + tema + '-').replace('300', m_plural).replace('301', '-' + plural)\n",
        "\n",
        "  import nltk\n",
        "  from nltk.tree import Tree\n",
        "  from nltk.tree import ParentedTree\n",
        "\n",
        "  tree_1 = Tree.fromstring(estr_palavra)\n",
        "  ptree_1 = ParentedTree.convert(tree_1)\n",
        "\n",
        "  print(\"O diagrama arbóreo da palavra é:\\n\") \n",
        "\n",
        "  ptree_1.pretty_print(unicodelines = True, nodedist = 3) \n"
      ],
      "execution_count": 1,
      "outputs": []
    },
    {
      "cell_type": "markdown",
      "metadata": {
        "id": "ri0qStxmoVT2"
      },
      "source": [
        "####**1.2) Faça o teste, chamando a função e seguindo as instruções!**####"
      ]
    },
    {
      "cell_type": "code",
      "metadata": {
        "id": "XmMx2oVtksWo",
        "colab": {
          "base_uri": "https://localhost:8080/"
        },
        "outputId": "d6f5eac3-4c5e-467a-c4cb-db97c4ef257c"
      },
      "source": [
        "analise_substantivo_adjetivo_1()"
      ],
      "execution_count": 42,
      "outputs": [
        {
          "output_type": "stream",
          "text": [
            "Escreva o PLURAL de um substantivo ou adjetivo com as seguintes características:\n",
            "\n",
            "1) Seja primitivo.\n",
            "2) Seja terminado em vogal átona (pode ser em ditongo crescente).\n",
            "\n",
            "Escreva aqui:\n",
            "\n",
            "lobos\n",
            "\n",
            "\n",
            "OS ALOMORFES:\n",
            "O alomorfe de raiz é: lob-\n",
            "O alomorfe de tema é: -o-\n",
            "O alomorfe de plural é: -s\n",
            "\n",
            "\n",
            "OS MORFEMAS:\n",
            "O morfema de raíz é: {lobo}\n",
            "O morfema de tema é: {tema'o'}\n",
            "O morfema de plural é: {plural}\n",
            "\n",
            "\n",
            "O diagrama arbóreo da palavra é:\n",
            "\n",
            "                  Rdf              \n",
            "          ┌────────┴──────────┐       \n",
            "          T                   │    \n",
            "  ┌───────┴────────┐          │       \n",
            "  R                ST        SFN   \n",
            "  │                │          │       \n",
            "{lobo}         {tema'o'}   {plural}\n",
            "  │                │          │       \n",
            " lob-             -o-         -s   \n",
            "\n"
          ],
          "name": "stdout"
        }
      ]
    },
    {
      "cell_type": "code",
      "metadata": {
        "id": "TIfLRB0hpGdm"
      },
      "source": [
        ""
      ],
      "execution_count": null,
      "outputs": []
    },
    {
      "cell_type": "markdown",
      "metadata": {
        "id": "w29L-h17otcH"
      },
      "source": [
        "###**2) Substantivos e adjetivos terminados em vogais tônicas**###\n",
        "\n",
        "Exemplos: \"agogô\", \"vatapá\", \"café\" etc."
      ]
    },
    {
      "cell_type": "markdown",
      "metadata": {
        "id": "bKoEM83jpUsu"
      },
      "source": [
        "####**2.1) Execute esta função!**####"
      ]
    },
    {
      "cell_type": "code",
      "metadata": {
        "id": "wkoQmjUXfQ87"
      },
      "source": [
        "def analise_substantivo_adjetivo_2():\n",
        "  \n",
        "  import re\n",
        "  \n",
        "  print(\"Escreva o PLURAL de um substantivo ou adjetivo com as seguintes características:\\n\")\n",
        "  print(\"1) Seja primitivo.\")\n",
        "  print(\"2) Seja terminado em vogal tônica.\\n\")\n",
        "\n",
        "  exemplo_0 = input(\"Escreva aqui:\\n\\n\")\n",
        "  \n",
        "  print('\\n')\n",
        "\n",
        "\n",
        "  #ALOMORFE DE PLURAL:\n",
        "\n",
        "  plural = re.findall(r'\\w$', exemplo_0)\n",
        "  plural = (''.join(plural))\n",
        "\n",
        "\n",
        "  ###ALOMORFE DE RAIZ:\n",
        "\n",
        "  raiz = exemplo_0[:-1]\n",
        "\n",
        "  #raiz = exemplo_0.replace((''.join(re.findall(r'\\w$', exemplo_0))), '')\n",
        "\n",
        "\n",
        "  #IMPRESSÕES DOS ALOMORFES:\n",
        "\n",
        "  print(\"OS ALOMORFES:\")\n",
        "  print(\"O alomorfe de raiz é: \" + raiz + '-')\n",
        "  print(\"O alomorfe de plural é: \" + '-' + plural)\n",
        "  \n",
        "  print('\\n')\n",
        "\n",
        " \n",
        "  ##MORFEMA DE RAIZ:\n",
        "\n",
        "  m_raiz = '{', raiz, '}'\n",
        "  m_raiz = (''.join(m_raiz))\n",
        "\n",
        "  ###MORFEMA DE PLURAL:\n",
        "\n",
        "  plural_1 = 'plural'\n",
        "  m_plural = '{', plural_1, '}'\n",
        "  m_plural = (''.join(m_plural))\n",
        "\n",
        "\n",
        "  #IMPRESSÕES DOS MORFEMAS:\n",
        "  \n",
        "  print(\"OS MORFEMAS:\")\n",
        "  print(\"O morfema de raíz é: \" + m_raiz)\n",
        "  print(\"O morfema de plural é: \" + m_plural)\n",
        "  print(\"\\n\")\n",
        "\n",
        "  ###DIAGRAMA DA ESTRUTURA DA PALAVRA\n",
        "\n",
        "  estr_palavra = '(Rdf (R (100 101)) (SFN (300 301)))'\n",
        "\n",
        "  estr_palavra = estr_palavra.replace('100', m_raiz).replace('101', raiz + '-').replace('300', m_plural).replace('301', '-' + plural)\n",
        "\n",
        "  import nltk\n",
        "  from nltk.tree import Tree\n",
        "  from nltk.tree import ParentedTree\n",
        "\n",
        "  tree_1 = Tree.fromstring(estr_palavra)\n",
        "  ptree_1 = ParentedTree.convert(tree_1)\n",
        "\n",
        "  print(\"O diagrama arbóreo da palavra é:\\n\") \n",
        "\n",
        "  ptree_1.pretty_print(unicodelines = True, nodedist = 3) \n"
      ],
      "execution_count": 7,
      "outputs": []
    },
    {
      "cell_type": "markdown",
      "metadata": {
        "id": "TljgeZNuprxC"
      },
      "source": [
        "####**2.2) Faça o teste, chamando a função e seguindo as instruções!**####"
      ]
    },
    {
      "cell_type": "code",
      "metadata": {
        "id": "R-keKql2kyT8",
        "colab": {
          "base_uri": "https://localhost:8080/"
        },
        "outputId": "88f18805-d20a-4878-e1fc-c6de4f11d156"
      },
      "source": [
        "analise_substantivo_adjetivo_2()"
      ],
      "execution_count": 12,
      "outputs": [
        {
          "output_type": "stream",
          "text": [
            "Escreva o PLURAL de um substantivo ou adjetivo com as seguintes características:\n",
            "\n",
            "1) Seja primitivo.\n",
            "2) Seja terminado em vogal tônica.\n",
            "\n",
            "Escreva aqui:\n",
            "\n",
            "sofás\n",
            "\n",
            "\n",
            "OS ALOMORFES:\n",
            "O alomorfe de raiz é: sofá-\n",
            "O alomorfe de plural é: -s\n",
            "\n",
            "\n",
            "OS MORFEMAS:\n",
            "O morfema de raíz é: {sofá}\n",
            "O morfema de plural é: {plural}\n",
            "\n",
            "\n",
            "O diagrama arbóreo da palavra é:\n",
            "\n",
            "         Rdf           \n",
            "  ┌───────┴───────┐       \n",
            "  R              SFN   \n",
            "  │               │       \n",
            "{sofá}         {plural}\n",
            "  │               │       \n",
            "sofá-             -s   \n",
            "\n"
          ],
          "name": "stdout"
        }
      ]
    },
    {
      "cell_type": "code",
      "metadata": {
        "id": "g20e7QN0pxRI"
      },
      "source": [
        ""
      ],
      "execution_count": null,
      "outputs": []
    },
    {
      "cell_type": "markdown",
      "metadata": {
        "id": "iN5hwjCCqCrL"
      },
      "source": [
        "###**3) Substantivos e adjetivos terminados em consoantes**###\n",
        "\n",
        "Exemplos: \"mar\", \"animal\", \"azul\", \"funil\" etc."
      ]
    },
    {
      "cell_type": "markdown",
      "metadata": {
        "id": "dCdhWa7Iuq-X"
      },
      "source": [
        "####**3.1) Execute esta função!**####"
      ]
    },
    {
      "cell_type": "code",
      "metadata": {
        "id": "-GwLP_zd68Hi"
      },
      "source": [
        "def analise_substantivo_adjetivo_3():\n",
        "  \n",
        "  import re\n",
        "  \n",
        "  print(\"Escreva o PLURAL de um substantivo ou adjetivo, com as seguintes características:\\n\")\n",
        "  print(\"1) Seja primitivo.\")\n",
        "  print(\"2) Seja terminado em consoante.\\n\")\n",
        "  \n",
        "  exemplo_0 = input(\"Escreva aqui:\\n\\n\")\n",
        "\n",
        "  print('\\n')\n",
        "\n",
        "  #ALOMORFE DE PLURAL:\n",
        "\n",
        "  if re.findall(r'uns$', exemplo_0):\n",
        "    plural = (''.join(re.findall(r'uns$', exemplo_0)))\n",
        "    plural = plural.replace('uns', 's')\n",
        "  elif re.findall(r'.\\w$', exemplo_0):\n",
        "    plural = (''.join(re.findall(r'.\\w$', exemplo_0)))\n",
        " \n",
        "\n",
        "  ##ALOMORFE DE RAIZ:\n",
        "\n",
        "\n",
        "  if re.findall(r'\\w+uns', exemplo_0):\n",
        "    raiz = re.sub(r'uns$', 'un', exemplo_0 )\n",
        "  elif re.findall(r'\\w+eses', exemplo_0):\n",
        "    raiz = re.sub(r'.\\w$', '', exemplo_0)\n",
        "  else:\n",
        "    raiz = re.sub(r'.\\w$', '', exemplo_0)\n",
        "  \n",
        "\n",
        "  #IMPRESSÕES DOS ALOMORFES:\n",
        "\n",
        "  print('OS ALOMORFES:')\n",
        "  print(\"O alomorfe de plural é : \" + '-' + plural)\n",
        "  print(\"O alomorfe de raiz é: \" + raiz + '-')\n",
        "\n",
        "  print('\\n')\n",
        "\n",
        "  #MORFEMA DE PLURAL:\n",
        "\n",
        "  plural_1 = 'plural'\n",
        "  m_plural = '{', plural_1, '}'\n",
        "  m_plural = (''.join(m_plural))\n",
        "\n",
        "\n",
        "  ##MORFEMA DE RAIZ:\n",
        "\n",
        "  raiz_m = raiz\n",
        "  morfem_0 = '{', raiz_m, '}'\n",
        "  morfem_0 = (''.join(morfem_0))\n",
        "  morfem_1 = '{', raiz_m, 'l', '}'\n",
        "  morfem_1 = (''.join(morfem_1))\n",
        "  morfem_2 = '{', raiz, 'il', '}'\n",
        "  morfem_2 = (''.join(morfem_2))\n",
        "  morfem_3 = raiz_m.replace('es', 'ês')\n",
        "  morfem_3 = '{', morfem_3, '}'\n",
        "  morfem_3 = (''.join(morfem_3))\n",
        "  morfem_4 = raiz_m.replace('n', 'm')\n",
        "  morfem_4 = '{', morfem_4, '}'\n",
        "  morfem_4 = (''.join(morfem_4))\n",
        "  morfem_5 = raiz_m.replace('é', 'el')\n",
        "  morfem_5 = '{', morfem_5, '}'\n",
        "  morfem_5 = (''.join(morfem_5))\n",
        "\n",
        "\n",
        "  if re.findall(r'\\w+eses', exemplo_0):\n",
        "    raiz_m = re.sub(raiz_m, morfem_3, raiz_m)\n",
        "  else:\n",
        "    pass\n",
        "    if re.findall(r'\\w+es', exemplo_0):\n",
        "      raiz_m = re.sub(raiz_m, morfem_0, raiz_m)\n",
        "    else:\n",
        "      pass\n",
        "  if re.findall(r'\\w+uis', exemplo_0) or re.findall(r'\\w+ais', exemplo_0) or re.findall(r'\\w+óis', exemplo_0):\n",
        "    raiz_m = re.sub(raiz_m, morfem_1, raiz_m)\n",
        "  else:\n",
        "    pass\n",
        "    if re.findall(r'\\w+éis', exemplo_0):\n",
        "        raiz_m = re.sub(raiz_m, morfem_5, raiz_m)\n",
        "    else:\n",
        "      pass\n",
        "      if re.findall(r'\\w+is', exemplo_0):\n",
        "        raiz_m = re.sub(raiz_m, morfem_2, raiz_m)\n",
        "      else:\n",
        "        if re.findall(r'\\w+uns', exemplo_0):\n",
        "          raiz_m = re.sub(raiz_m, morfem_4, raiz_m)\n",
        "        else:\n",
        "          pass\n",
        "\n",
        "  #IMPRESSÕES DOS MORFEMAS:\n",
        "  print(\"OS MORFEMAS:\")\n",
        "  print(\"O morfema de raíz é: \" + raiz_m)\n",
        "  print(\"O morfema de plural é: \" + m_plural)\n",
        "  \n",
        "  print('\\n')\n",
        "\n",
        "\n",
        "  ###DIAGRAMA DA ESTRUTURA DA PALAVRA\n",
        "\n",
        "  estr_palavra_0 = '(Rdf (R (100 101)) (SFN (300 301)))'\n",
        "\n",
        "  estr_palavra_0 = estr_palavra_0.replace('100', raiz_m).replace('101', raiz + '-').replace('300', m_plural).replace('301', '-' + plural)\n",
        "\n",
        "  import nltk\n",
        "  from nltk.tree import Tree\n",
        "  from nltk.tree import ParentedTree\n",
        "\n",
        "  tree_1 = Tree.fromstring(estr_palavra_0)\n",
        "  ptree_1 = ParentedTree.convert(tree_1)\n",
        "\n",
        "  print(\"O diagrama arbóreo da palavra é:\\n\") \n",
        "\n",
        "  ptree_1.pretty_print(unicodelines = True, nodedist = 3) \n"
      ],
      "execution_count": 13,
      "outputs": []
    },
    {
      "cell_type": "markdown",
      "metadata": {
        "id": "gGL1MxY5qcaj"
      },
      "source": [
        "####**3.2) Faça o teste, chamando a função e seguindo as instruções!**####"
      ]
    },
    {
      "cell_type": "code",
      "metadata": {
        "id": "OwxuM1Klk6lK",
        "colab": {
          "base_uri": "https://localhost:8080/"
        },
        "outputId": "fd39514a-1227-430f-bcb1-30eaf18696a7"
      },
      "source": [
        "analise_substantivo_adjetivo_3()"
      ],
      "execution_count": 27,
      "outputs": [
        {
          "output_type": "stream",
          "text": [
            "Escreva o PLURAL de um substantivo ou adjetivo, com as seguintes características:\n",
            "\n",
            "1) Seja primitivo.\n",
            "2) Seja terminado em consoante.\n",
            "\n",
            "Escreva aqui:\n",
            "\n",
            "animais\n",
            "\n",
            "\n",
            "OS ALOMORFES:\n",
            "O alomorfe de plural é : -is\n",
            "O alomorfe de raiz é: anima-\n",
            "\n",
            "\n",
            "OS MORFEMAS:\n",
            "O morfema de raíz é: {animal}\n",
            "O morfema de plural é: {plural}\n",
            "\n",
            "\n",
            "O diagrama arbóreo da palavra é:\n",
            "\n",
            "           Rdf           \n",
            "   ┌────────┴───────┐       \n",
            "   R               SFN   \n",
            "   │                │       \n",
            "{animal}         {plural}\n",
            "   │                │       \n",
            " anima-            -is   \n",
            "\n"
          ],
          "name": "stdout"
        }
      ]
    },
    {
      "cell_type": "code",
      "metadata": {
        "id": "DwRdYwo8qikR"
      },
      "source": [
        ""
      ],
      "execution_count": null,
      "outputs": []
    },
    {
      "cell_type": "markdown",
      "metadata": {
        "id": "YisSGMPXqwq_"
      },
      "source": [
        "###**4) Substantivos e adjetivos paraxítonos terminados em consoantes**###\n",
        "\n",
        "Exemplos: \"fácil\", \"abdômen\", \"dólar\" etc."
      ]
    },
    {
      "cell_type": "markdown",
      "metadata": {
        "id": "2-B1DBrmu-rD"
      },
      "source": [
        "####**4.1) Execute esta função!**####"
      ]
    },
    {
      "cell_type": "code",
      "metadata": {
        "id": "O7EMR3r4CZOJ"
      },
      "source": [
        "def analise_substantivo_adjetivo_4():\n",
        "  \n",
        "  import re\n",
        "  \n",
        "  print(\"Escreva o PLURAL de um substantivo ou adjetivo com as seguintes características:\\n\")\n",
        "  print(\"1) Seja paroxítono.\")\n",
        "  print(\"2) Seja terminado em consoante, quando no singular.\\n\")\n",
        "\n",
        "  exemplo_0 = input(\"Escreva aqui:\\n\\n\")\n",
        "\n",
        "  print('\\n')\n",
        "\n",
        "  #ALOMORFE DE PLURAL:\n",
        "\n",
        "  if re.findall(r'\\w+eis', exemplo_0):\n",
        "    plural = (''.join(re.findall(r'..\\w$', exemplo_0)))\n",
        "  elif re.findall(r'\\w+es', exemplo_0):\n",
        "    plural = (''.join(re.findall(r'.\\w$', exemplo_0)))\n",
        "  else:\n",
        "    #if re.findall(r'\\w+s', exemplo_0):\n",
        "    plural = (''.join(re.findall(r'\\w$', exemplo_0)))\n",
        "\n",
        "\n",
        "  ##ALOMORFE DE RAIZ:\n",
        "\n",
        "  raiz = re.sub(plural, '', exemplo_0)\n",
        "\n",
        "\n",
        "  #IMPRESSÕES DOS ALOMORFES:\n",
        "\n",
        "  print('OS ALOMORFES:')\n",
        "  print(\"O alomorfe de plural é : \" + '-' + plural)\n",
        "  print(\"O alomorfe de raiz é: \" + raiz + '-')\n",
        "\n",
        "  print('\\n')\n",
        "\n",
        "  #MORFEMA DE PLURAL:\n",
        "\n",
        "  plural_1 = 'plural'\n",
        "  m_plural = '{', plural_1, '}'\n",
        "  m_plural = (''.join(m_plural))\n",
        "\n",
        "\n",
        "  ##MORFEMA DE RAIZ:\n",
        "\n",
        "  raiz_m = raiz\n",
        "  morfem_2 = '{', raiz, 'il', '}'\n",
        "  morfem_2 = (''.join(morfem_2))\n",
        "  morfem_3 = '{', raiz, '}'\n",
        "  morfem_3 = (''.join(morfem_3))\n",
        "  morfem_4 = '{', raiz, 'el', '}'\n",
        "  morfem_4 = (''.join(morfem_4))\n",
        "\n",
        "  for w in plural:\n",
        "    if w in plural == 'eis':\n",
        "      raiz_m = re.sub(raiz_m, morfem_2, raiz_m) ##A substutição de uma variável por outra deve ser feita através de \"regex\".\n",
        "    else:\n",
        "      pass\n",
        "      if w in plural == 's':\n",
        "        raiz_m = re.sub(raiz_m, morfem_3, raiz_m)\n",
        "      else:\n",
        "        pass\n",
        "\n",
        "  if re.findall(r'\\w+veis', exemplo_0):\n",
        "    raiz_m = raiz_m.replace(raiz_m, morfem_4)\n",
        "  \n",
        "\n",
        "  #IMPRESSÕES DOS MORFEMAS:\n",
        "  print(\"OS MORFEMAS:\")\n",
        "  print(\"O morfema de raíz é: \" + raiz_m)\n",
        "  print(\"O morfema de plural é: \" + m_plural)\n",
        "  \n",
        "  print('\\n')\n",
        "\n",
        "\n",
        "  ###DIAGRAMA DA ESTRUTURA DA PALAVRA\n",
        "\n",
        "  estr_palavra_0 = '(Rdf (R (100 101)) (SFN (300 301)))'\n",
        "\n",
        "  estr_palavra_0 = estr_palavra_0.replace('100', raiz_m).replace('101', raiz + '-').replace('300', m_plural).replace('301', '-' + plural)\n",
        "\n",
        "  import nltk\n",
        "  from nltk.tree import Tree\n",
        "  from nltk.tree import ParentedTree\n",
        "\n",
        "  tree_1 = Tree.fromstring(estr_palavra_0)\n",
        "  ptree_1 = ParentedTree.convert(tree_1)\n",
        "\n",
        "  print(\"O diagrama arbóreo da palavra é:\\n\") \n",
        "\n",
        "  ptree_1.pretty_print(unicodelines = True, nodedist = 3) \n"
      ],
      "execution_count": 28,
      "outputs": []
    },
    {
      "cell_type": "markdown",
      "metadata": {
        "id": "E6tjnS10sZQ5"
      },
      "source": [
        "####**4.2) Faça o teste, chamando a função e seguindo as instruções!**####"
      ]
    },
    {
      "cell_type": "code",
      "metadata": {
        "id": "c3nRFsJFsa0e",
        "colab": {
          "base_uri": "https://localhost:8080/"
        },
        "outputId": "58be0bce-d1f3-4964-8cc7-7f19a03222ec"
      },
      "source": [
        "analise_substantivo_adjetivo_4()"
      ],
      "execution_count": 32,
      "outputs": [
        {
          "output_type": "stream",
          "text": [
            "Escreva o PLURAL de um substantivo ou adjetivo com as seguintes características:\n",
            "\n",
            "1) Seja paroxítono.\n",
            "2) Seja terminado em consoante, quando no singular.\n",
            "\n",
            "Escreva aqui:\n",
            "\n",
            "projéteis\n",
            "\n",
            "\n",
            "OS ALOMORFES:\n",
            "O alomorfe de plural é : -eis\n",
            "O alomorfe de raiz é: projét-\n",
            "\n",
            "\n",
            "OS MORFEMAS:\n",
            "O morfema de raíz é: {projétil}\n",
            "O morfema de plural é: {plural}\n",
            "\n",
            "\n",
            "O diagrama arbóreo da palavra é:\n",
            "\n",
            "             Rdf           \n",
            "    ┌─────────┴───────┐       \n",
            "    R                SFN   \n",
            "    │                 │       \n",
            "{projétil}         {plural}\n",
            "    │                 │       \n",
            " projét-             -eis  \n",
            "\n"
          ],
          "name": "stdout"
        }
      ]
    },
    {
      "cell_type": "code",
      "metadata": {
        "id": "FF68EH4lszvI"
      },
      "source": [
        ""
      ],
      "execution_count": null,
      "outputs": []
    },
    {
      "cell_type": "markdown",
      "metadata": {
        "id": "umC_ScSqs0LE"
      },
      "source": [
        "###**5) Substantivos e adjetivos terminados em \"ão\"**###\n",
        "\n",
        "Exemplos: \"leão\", \"alemão\", \"verão\" etc."
      ]
    },
    {
      "cell_type": "markdown",
      "metadata": {
        "id": "akOcGnHzvMGW"
      },
      "source": [
        "####**5.1) Execute esta função!**####"
      ]
    },
    {
      "cell_type": "code",
      "metadata": {
        "id": "1YBpGMPqCzwy"
      },
      "source": [
        "def analise_substantivo_adjetivo_5():\n",
        "  \n",
        "  import re\n",
        "  \n",
        "  print(\"Escreva o PLURAL de um substantivo ou adjetivo com as seguintes características:\\n\")\n",
        "  print(\"1) Seja primitivo ou derivado.\")\n",
        "  print(\"2) Seja terminado em ditongo 'ão', na forma singular.\\n\")\n",
        "\n",
        "  exemplo_0 = input(\"Escreva aqui:\\n\\n\")\n",
        "\n",
        "  print('\\n')\n",
        "\n",
        "  print(\"Agora escreva a forma SINGULAR dessa expressão:\\n\")\n",
        "\n",
        "  exemplo_1 = input(\"Escreva aqui:\\n\\n\")\n",
        "\n",
        "  print('\\n')\n",
        "\n",
        "\n",
        "  #ALOMORFE DE PLURAL:\n",
        "\n",
        "  analise_0 = re.findall(r'.\\w$', exemplo_0)\n",
        "  plural = (''.join(analise_0))\n",
        "\n",
        "\n",
        "  ###ALOMORFE DE RAIZ:\n",
        "\n",
        "  pattern = plural                      \n",
        "  raiz = re.sub(pattern, '', exemplo_0)\n",
        "\n",
        "  #IMPRESSÕES DOS ALOMORFES:\n",
        "\n",
        "  print(\"OS ALOMORFES:\")\n",
        "  print(\"O alomorfe de raiz é: \" + raiz + '-')\n",
        "  print(\"O alomorfe de plural é: \" + '-' + plural)\n",
        "  \n",
        "  print('\\n')\n",
        "\n",
        " \n",
        "  ##MORFEMA DE RAIZ:\n",
        "\n",
        "  m_raiz = '{', exemplo_1, '}'\n",
        "  m_raiz = (''.join(m_raiz))\n",
        "\n",
        "  ###MORFEMA DE PLURAL:\n",
        "\n",
        "  plural_1 = 'plural'\n",
        "  m_plural = '{', plural_1, '}'\n",
        "  m_plural = (''.join(m_plural))\n",
        "\n",
        "\n",
        "  #IMPRESSÕES DOS MORFEMAS:\n",
        "  print(\"OS MORFEMAS:\")\n",
        "  print(\"O morfema de raíz é: \" + m_raiz)\n",
        "  print(\"O morfema de plural é: \" + m_plural)\n",
        "  print(\"\\n\")\n",
        "\n",
        "  ###DIAGRAMA DA ESTRUTURA DA PALAVRA\n",
        "\n",
        "  estr_palavra = '(Rdf (R (100 101)) (SFN (300 301)))'\n",
        "\n",
        "  estr_palavra = estr_palavra.replace('100', m_raiz).replace('101', raiz + '-').replace('300', m_plural).replace('301', '-' + plural)\n",
        "\n",
        "  import nltk\n",
        "  from nltk.tree import Tree\n",
        "\n",
        "  tree_1 = Tree.fromstring(estr_palavra)\n",
        "\n",
        "  print(\"O diagrama arbóreo da palavra é:\\n\") \n",
        "\n",
        "  tree_1.pretty_print(unicodelines = True, nodedist = 3) \n"
      ],
      "execution_count": 33,
      "outputs": []
    },
    {
      "cell_type": "markdown",
      "metadata": {
        "id": "SsTZXnKCtXW4"
      },
      "source": [
        "####**5.1) Faça o teste, chamando a função e seguindo as instruções!**####"
      ]
    },
    {
      "cell_type": "code",
      "metadata": {
        "id": "VMRM8BvVuCtL",
        "colab": {
          "base_uri": "https://localhost:8080/"
        },
        "outputId": "63f26265-540e-462f-fdf0-edf1dd862c2c"
      },
      "source": [
        "analise_substantivo_adjetivo_5()"
      ],
      "execution_count": 36,
      "outputs": [
        {
          "output_type": "stream",
          "text": [
            "Escreva o PLURAL de um substantivo ou adjetivo com as seguintes características:\n",
            "\n",
            "1) Seja primitivo ou derivado.\n",
            "2) Seja terminado em ditongo 'ão', na forma singular.\n",
            "\n",
            "Escreva aqui:\n",
            "\n",
            "leões\n",
            "\n",
            "\n",
            "Agora escreva a forma SINGULAR dessa expressão:\n",
            "\n",
            "Escreva aqui:\n",
            "\n",
            "leão\n",
            "\n",
            "\n",
            "OS ALOMORFES:\n",
            "O alomorfe de raiz é: leõ-\n",
            "O alomorfe de plural é: -es\n",
            "\n",
            "\n",
            "OS MORFEMAS:\n",
            "O morfema de raíz é: {leão}\n",
            "O morfema de plural é: {plural}\n",
            "\n",
            "\n",
            "O diagrama arbóreo da palavra é:\n",
            "\n",
            "         Rdf           \n",
            "  ┌───────┴───────┐       \n",
            "  R              SFN   \n",
            "  │               │       \n",
            "{leão}         {plural}\n",
            "  │               │       \n",
            " leõ-            -es   \n",
            "\n"
          ],
          "name": "stdout"
        }
      ]
    },
    {
      "cell_type": "code",
      "metadata": {
        "id": "gfX3PLtivY6X"
      },
      "source": [
        ""
      ],
      "execution_count": null,
      "outputs": []
    },
    {
      "cell_type": "markdown",
      "metadata": {
        "id": "iQBx00hsjzi1"
      },
      "source": [
        "###**Análise morfológica**###\n",
        "\n",
        "Como mencionado acima, consiste em efetuar uma série **operações metalinguísticas** sobre o material linguístico. \n",
        "\n",
        "Em primeiro lugar, o analista precisa discriminar, ao nível dos componentes formais, entre **“morfema”** ({belo}) e **“alomorfe”** (bel); este último sendo a expressão física (sonora ou ortográfica) daquele primeiro. \n",
        "\n",
        "Morfema é, assim, um conceito teórico, um construto, que denota um objeto do intelecto. Segundo Câmara Jr. (2001) são “os elementos constitutivos atuais do vocábulo [palavra], sejam eles ou não elementos simples indivisíveis originários” (p. 22). \n",
        "\n",
        "Ser capaz de apreender os morfemas é meio caminho andado em direção à intelecção da **estrutura da palavra**.\n",
        "\n",
        "Em segundo, o analista precisa notar que uma palavra se faz inteligível porque ela é formada de componentes básicos (morfemas) que se **organizam hierarquicamente**. Ou seja, os referidos componentes se subordinam a categorias mais altas dentro da estrutura, p.ex., Nível 1: {belo} < Nível 2: R < Nível 3: Rdl.\n"
      ]
    },
    {
      "cell_type": "markdown",
      "metadata": {
        "id": "Ha0bWXxZbh9J"
      },
      "source": [
        "###**Operações metalinguísticas que as funções acima realizam**###\n",
        "\n",
        "(a) Segmentação das palavras em suas partes constituintes (p.ex., em “meninos”: menin-, -o-, -s), os alomorfes.\n",
        "\n",
        "(b) Classificação desses alomorfes de acordo com o morfema a que pertencem (p.ex., menin- = {menino}; -o- = {ST}; -s = {plural}.\n",
        "\n",
        "(c) Análise dos diferentes níveis de organização da palavra.\n",
        "\n",
        "(d) Geração de diagrama arbóreo da estrutura da palavra considerada (LAROCA, 2003).\n"
      ]
    },
    {
      "cell_type": "markdown",
      "metadata": {
        "id": "nk64w8R-DTbs"
      },
      "source": [
        "###**Palavras finais**###\n",
        "\n",
        "Em suma, o programa faz uma análise formal dos nomes e especifica as informações necessárias para o entendimento da flexão de número. Basicamente essa análise realiza o mesmo que os manuais de gramática empregados neste projeto.\n",
        "\n",
        "A exposição acima consistiu meramente em mostrar um programa computacional para a análise de flexão nominal. Nesse sentido, presumimos que o leitor tenha conhecimento dos conceitos básicos da morfologia estrutural. \n",
        "\n",
        "Em caso contrário, sugerimos consultar as obras especializadas elencadas nas \"Referências\"."
      ]
    },
    {
      "cell_type": "markdown",
      "metadata": {
        "id": "-emozAou9PJX"
      },
      "source": [
        "####**Referências**:####\n",
        "\n",
        "BIRD, Steven; KLEIN, Ewan; LOPER, Edward. Natural language processing with Python: analyzing text with the natural language toolkit. O'Reilly Media, Inc., 2009. Disponível em: http://www.nltk.org/book_1ed/ Acesso em: 27 jul. 2021.\n",
        "\n",
        "CÂMARA JR, Joaquim Mattoso. Estrutura da Língua Portuguesa. 34 ed. Petrópolis, RJ: Editora Vozes, 2001.\n",
        "\n",
        "CÂMPEANU, Cezar; SANTEAN, Nicolae. On the intersection of regex languages with regular languages. Theoretical Computer Science, v. 410, n. 24-25, p. 2336-2344, 2009. Disponível em: https://www.sciencedirect.com/science/article/pii/S0304397509001789 Acesso em: 27 jul. 2021.\n",
        "\n",
        "LAROCA, Maria Nazaré de Carvalho. Manual de morfologia do português. 3 ed. Revisada e ampliada. Campinas: Pontes; Juiz de Fora: UFJF, 2003.\n",
        "\n",
        "LYONS, John. Linguagem e Lingüística. Uma introdução. Trad. Marilda Winkler Averburg; Clarisse Sieckenius de Souza. Rio de Janeiro, RJ: LTC, 1987.\n",
        "\n",
        "Van ROSSUM, Guido. Python Programming Language. In USENIX annual technical conference, vol. 41, p. 36. 2007. Disponível em: https://thereaderwiki.com/en/Python_(programming_language) Acesso em: 27 jul. 2021.\n"
      ]
    }
  ]
}